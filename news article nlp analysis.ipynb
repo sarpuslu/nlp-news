{
 "cells": [
  {
   "cell_type": "markdown",
   "metadata": {},
   "source": [
    "Graham Capital Management - Data Science Internship Application - Sarp Uslu"
   ]
  },
  {
   "cell_type": "markdown",
   "metadata": {},
   "source": [
    "This code is written as part of the Data Science Internship position application process. Overall, it is composed of three parts:\n",
    "1) Reads in JSON news articles on https://www.kaggle.com/rmisra/news-category-dataset and saves unigram and bigram counts to excel sheets. \n",
    "2) Calculates TFIDF for words observed within each news article.\n",
    "3) Derives topics based on LDA.\n",
    "\n",
    "While I have worked on NLP applications on R before, this was the first time I used Python to do such a task. It took me roughly an entire day (Sunday 10/14/2018) to complete this task. "
   ]
  },
  {
   "cell_type": "markdown",
   "metadata": {},
   "source": [
    "Note: gensim module used below is not a common module. If it causes any issues try launching Jupyter from a virtual environment that has gensim module installed by using an environment manager like Anaconda. \n",
    "\n",
    "This code should work as long as the JSON dataset is in the same directory. If there are any issues, please contact me at sarpuslu@gmail.com"
   ]
  },
  {
   "cell_type": "code",
   "execution_count": 8,
   "metadata": {},
   "outputs": [
    {
     "name": "stdout",
     "output_type": "stream",
     "text": [
      "[nltk_data] Downloading package wordnet to\n",
      "[nltk_data]     C:\\Users\\shangoba\\AppData\\Roaming\\nltk_data...\n",
      "[nltk_data]   Package wordnet is already up-to-date!\n"
     ]
    }
   ],
   "source": [
    "import gensim\n",
    "from gensim.utils import simple_preprocess\n",
    "from gensim.parsing.preprocessing import STOPWORDS\n",
    "from gensim import corpora, models\n",
    "from nltk.stem import WordNetLemmatizer\n",
    "import numpy as np\n",
    "import nltk\n",
    "import os \n",
    "import json\n",
    "import itertools\n",
    "from collections import Counter\n",
    "import pandas as pd\n",
    "import matplotlib.pyplot as plt\n",
    "\n",
    "nltk.download('wordnet')\n",
    "np.random.seed(1)"
   ]
  },
  {
   "cell_type": "markdown",
   "metadata": {},
   "source": [
    "Here is some helper functions to preprocess words, derive ngrams, plot word counts as histograms and presenf tfidf for news articles. "
   ]
  },
  {
   "cell_type": "code",
   "execution_count": 19,
   "metadata": {},
   "outputs": [],
   "source": [
    "#preprocess takes in a single string and returns a lemmatized list of words\n",
    "#short words (len(word) < 3) and stop words are removed\n",
    "def preprocess(text):\n",
    "    result = []\n",
    "    tokens = gensim.utils.simple_preprocess(text)\n",
    "    for token in tokens:\n",
    "        if token not in gensim.parsing.preprocessing.STOPWORDS and len(token) > 3:\n",
    "            result.append(WordNetLemmatizer().lemmatize(token, pos='v'))\n",
    "    return result\n",
    "\n",
    "\n",
    "#given a list of words function returns list of n-grams\n",
    "def ngrams(input, n):\n",
    "  output = []\n",
    "  for i in range(len(input)-n+1):\n",
    "    output.append(input[i:i+n])\n",
    "  return output\n",
    "\n",
    "\n",
    "#plots a histogram of word counts for n most commonly observed words\n",
    "def plotWordFreq(listOfWords, n):\n",
    "    counts = dict(Counter(listOfWords).most_common(n))\n",
    "    labels, values = zip(*counts.items())\n",
    "    \n",
    "    # sort your values in descending order\n",
    "    indSort = np.argsort(values)[::-1]\n",
    "    \n",
    "    # rearrange your data\n",
    "    labels = np.array(labels)[indSort]\n",
    "    values = np.array(values)[indSort]\n",
    "    \n",
    "    indexes = np.arange(len(labels))\n",
    "    \n",
    "    bar_width = 0.35\n",
    "    \n",
    "    plt.bar(indexes, values)\n",
    "    \n",
    "    # add labels\n",
    "    plt.xticks(indexes + bar_width, labels, rotation = 90)\n",
    "    plt.ylabel(\"count\")\n",
    "    plt.show()\n",
    "\n",
    "#this function print out tfidf values for words in an article\n",
    "#given the corpus_tdidf and the index of the news article \n",
    "def printTFIDF(corpusTFIDF, newsIndex):\n",
    "    for i in range(len(corpusTFIDF[newsIndex])-1):\n",
    "        print(str(dictionary[corpusTFIDF[newsIndex][i][0]]) + \": \" + str(corpusTFIDF[newsIndex][i][1]))\n",
    "        \n"
   ]
  },
  {
   "cell_type": "markdown",
   "metadata": {},
   "source": [
    "Below is the function requested in the job description. Given a list of words this function will write the frequency of unigrams and bigrams into an excel file onto different sheets. "
   ]
  },
  {
   "cell_type": "code",
   "execution_count": 24,
   "metadata": {},
   "outputs": [],
   "source": [
    "def writeOneTwoGramsToExcel(listOfWords):\n",
    "    #given a list of words function returns list of n-grams\n",
    "    def ngrams(input, n):\n",
    "      output = []\n",
    "      for i in range(len(input)-n+1):\n",
    "        output.append(input[i:i+n])\n",
    "      return output\n",
    "\n",
    "    counts = Counter(listOfWords)\n",
    "    counts = dict(counts)\n",
    "    wordCountDataFrame = pd.Series(counts).to_frame()\n",
    "    writer = pd.ExcelWriter('n-gram.xlsx', engine='xlsxwriter')\n",
    "\n",
    "    #save the word count data frame into a excel sheet\n",
    "    wordCountDataFrame.to_excel(writer, sheet_name = \"unigram\")\n",
    "    \n",
    "    grams = ngrams(listOfWords, 2)\n",
    "    bigrams = []\n",
    "    for i in range(len(grams)):\n",
    "        bigrams.append(grams[i][0] + \" \" + grams[i][1])\n",
    "    del ngrams \n",
    "\n",
    "    #save the word count data frame into an excel sheet\n",
    "    counts = Counter(bigrams)\n",
    "    counts = dict(counts)\n",
    "    wordCountDataFrame = pd.Series(counts).to_frame()\n",
    "    wordCountDataFrame.to_excel(writer, sheet_name = \"bigram\")\n",
    "    writer.save()"
   ]
  },
  {
   "cell_type": "markdown",
   "metadata": {},
   "source": [
    "Reading the JSON file and process the words for all articles:"
   ]
  },
  {
   "cell_type": "code",
   "execution_count": 25,
   "metadata": {},
   "outputs": [],
   "source": [
    "f = open(\"News_Category_Dataset.json\", \"r\")\n",
    "allNews = f.read().split(\"\\n\")\n",
    "\n",
    "#combine headline and short_description for each news article\n",
    "aggText = []\n",
    "for i in range(len(allNews)-1):\n",
    "    singleNews = json.loads(allNews[i])\n",
    "    aggText.append(singleNews[\"headline\"] + \". \" + singleNews[\"short_description\"])\n",
    "    \n",
    "    \n",
    "#preprocess each news article to get processed list of list of words for each article\n",
    "listOfListOfWords = []\n",
    "for i in range(len(aggText)-1):\n",
    "    listOfListOfWords.append(preprocess(aggText[i]))\n",
    "    \n",
    "#collapse list of list of words into a single chunk of list of words\n",
    "listOfWords = list(itertools.chain().from_iterable(listOfListOfWords))"
   ]
  },
  {
   "cell_type": "markdown",
   "metadata": {},
   "source": [
    "Calling the function requested in the job description. This call below will create an excel file in the current directory composed of unigram and bigram word counts."
   ]
  },
  {
   "cell_type": "code",
   "execution_count": 26,
   "metadata": {},
   "outputs": [],
   "source": [
    "writeOneTwoGramsToExcel(listOfWords)"
   ]
  },
  {
   "cell_type": "markdown",
   "metadata": {},
   "source": [
    "Here is the most commonly observed unigram words in the given dataset:"
   ]
  },
  {
   "cell_type": "code",
   "execution_count": 5,
   "metadata": {},
   "outputs": [
    {
     "data": {
      "image/png": "[encoded data removed]",
      "text/plain": [
       "<Figure size 432x288 with 1 Axes>"
      ]
     },
     "metadata": {},
     "output_type": "display_data"
    }
   ],
   "source": [
    "plotWordFreq(listOfWords, 20)"
   ]
  },
  {
   "cell_type": "markdown",
   "metadata": {},
   "source": [
    "Here are the most common 20 bigrams observed in the entire dataset:"
   ]
  },
  {
   "cell_type": "code",
   "execution_count": 6,
   "metadata": {},
   "outputs": [
    {
     "data": {
      "image/png": "[encoded data removed]",
      "text/plain": [
       "<Figure size 432x288 with 1 Axes>"
      ]
     },
     "metadata": {},
     "output_type": "display_data"
    }
   ],
   "source": [
    "#get bigrams\n",
    "ngrams = ngrams(listOfWords, 2)\n",
    "bigrams = []\n",
    "for i in range(len(ngrams)):\n",
    "    bigrams.append(ngrams[i][0] + \" \" + ngrams[i][1])\n",
    "del ngrams \n",
    "\n",
    "#plot histogram of most frequent bigrams\n",
    "plotWordFreq(bigrams, 20)   \n",
    "    "
   ]
  },
  {
   "cell_type": "markdown",
   "metadata": {},
   "source": [
    "TFIDF Analysis of News Articles:"
   ]
  },
  {
   "cell_type": "code",
   "execution_count": 9,
   "metadata": {},
   "outputs": [],
   "source": [
    "#calculate tdidf for every news article\n",
    "dictionary = gensim.corpora.Dictionary(listOfListOfWords)\n",
    "bow_corpus = [dictionary.doc2bow(doc) for doc in listOfListOfWords]\n",
    "tfidf = models.TfidfModel(bow_corpus)\n",
    "corpus_tfidf = tfidf[bow_corpus]"
   ]
  },
  {
   "cell_type": "markdown",
   "metadata": {},
   "source": [
    "Here are three news articles followed by the tfidf for the words in those articles. A higher tfidf score for a word indicates a rare word that is uniquely representative of that particular article:"
   ]
  },
  {
   "cell_type": "code",
   "execution_count": 13,
   "metadata": {},
   "outputs": [
    {
     "name": "stdout",
     "output_type": "stream",
     "text": [
      "Will Smith Joins Diplo And Nicky Jam For The 2018 World Cup's Official Song. Of course it has a song.\n",
      "course: 0.2530779098452247\n",
      "diplo: 0.46627461391857233\n",
      "join: 0.23822129271865264\n",
      "nicky: 0.4590466367220926\n",
      "official: 0.25332709930007374\n",
      "smith: 0.2852487089764458\n",
      "song: 0.5304125400217264\n"
     ]
    }
   ],
   "source": [
    "print(aggText[1])\n",
    "printTFIDF(corpus_tfidf, 1)"
   ]
  },
  {
   "cell_type": "code",
   "execution_count": 14,
   "metadata": {},
   "outputs": [
    {
     "name": "stdout",
     "output_type": "stream",
     "text": [
      "Hugh Grant Marries For The First Time At Age 57. The actor and his longtime girlfriend Anna Eberstein tied the knot in a civil ceremony.\n",
      "actor: 0.2119667462285322\n",
      "anna: 0.29040864170933534\n",
      "ceremony: 0.2669209854072621\n",
      "civil: 0.21667456371081076\n",
      "eberstein: 0.4657873868253694\n",
      "girlfriend: 0.26411224167853314\n",
      "grant: 0.2539465865993043\n",
      "hugh: 0.3046330336793549\n",
      "knot: 0.3224741722416169\n",
      "longtime: 0.29040864170933534\n",
      "marry: 0.23760053499178296\n",
      "tie: 0.2240302432554473\n"
     ]
    }
   ],
   "source": [
    "print(aggText[2])\n",
    "printTFIDF(corpus_tfidf, 2)"
   ]
  },
  {
   "cell_type": "code",
   "execution_count": 15,
   "metadata": {},
   "outputs": [
    {
     "name": "stdout",
     "output_type": "stream",
     "text": [
      "White House Eliminates Cyber Czar Post After First Appointee Leaves. “I don’t see how getting rid of the top cyber official in the White House does anything to make our country safer from cyber threats,” Mark Warner, the top Democrat on the Senate Intelligence committee, said.\n",
      "leave: 0.1183929869080243\n",
      "official: 0.15725995354674815\n",
      "say: 0.07381376871342187\n",
      "get: 0.11170258355442282\n",
      "threats: 0.17886638185895287\n",
      "country: 0.12191674778653501\n",
      "house: 0.21636851562625845\n",
      "white: 0.2238827009569667\n",
      "committee: 0.1664197498332014\n",
      "senate: 0.13362693514497678\n",
      "post: 0.1308276437574102\n",
      "mark: 0.14906770990997462\n",
      "intelligence: 0.1757778659985936\n",
      "appointee: 0.2544082654501453\n",
      "cyber: 0.6253435026155456\n",
      "czar: 0.2529880962111868\n",
      "democrat: 0.17538975764294717\n",
      "eliminate: 0.19654582435731077\n",
      "safer: 0.20967360249514738\n"
     ]
    }
   ],
   "source": [
    "print(aggText[500])\n",
    "printTFIDF(corpus_tfidf, 500)"
   ]
  },
  {
   "cell_type": "markdown",
   "metadata": {},
   "source": [
    "LDA topics:"
   ]
  },
  {
   "cell_type": "markdown",
   "metadata": {},
   "source": [
    "Here are 10 topics that are observed along with the words that appear on those topics seen in all articles:"
   ]
  },
  {
   "cell_type": "code",
   "execution_count": 16,
   "metadata": {},
   "outputs": [
    {
     "name": "stdout",
     "output_type": "stream",
     "text": [
      "Topic: 0 \n",
      "Words: 0.012*\"live\" + 0.012*\"people\" + 0.009*\"love\" + 0.008*\"life\" + 0.007*\"learn\" + 0.007*\"social\" + 0.006*\"world\" + 0.006*\"health\" + 0.006*\"media\" + 0.005*\"community\"\n",
      "Topic: 1 \n",
      "Words: 0.014*\"life\" + 0.011*\"school\" + 0.010*\"time\" + 0.009*\"women\" + 0.008*\"children\" + 0.008*\"need\" + 0.008*\"know\" + 0.008*\"think\" + 0.007*\"mother\" + 0.007*\"college\"\n",
      "Topic: 2 \n",
      "Words: 0.013*\"state\" + 0.008*\"right\" + 0.006*\"court\" + 0.005*\"government\" + 0.005*\"education\" + 0.005*\"public\" + 0.005*\"rule\" + 0.004*\"business\" + 0.004*\"americans\" + 0.004*\"plan\"\n",
      "Topic: 3 \n",
      "Words: 0.009*\"food\" + 0.007*\"like\" + 0.006*\"baby\" + 0.006*\"know\" + 0.006*\"good\" + 0.005*\"look\" + 0.005*\"ways\" + 0.005*\"things\" + 0.005*\"happiness\" + 0.005*\"make\"\n",
      "Topic: 4 \n",
      "Words: 0.015*\"police\" + 0.012*\"kill\" + 0.009*\"shoot\" + 0.008*\"say\" + 0.007*\"death\" + 0.006*\"officer\" + 0.005*\"ferguson\" + 0.005*\"arrest\" + 0.005*\"charge\" + 0.005*\"pope\"\n",
      "Topic: 5 \n",
      "Words: 0.021*\"obama\" + 0.015*\"house\" + 0.013*\"white\" + 0.009*\"people\" + 0.009*\"president\" + 0.007*\"say\" + 0.007*\"like\" + 0.007*\"care\" + 0.006*\"health\" + 0.006*\"think\"\n",
      "Topic: 6 \n",
      "Words: 0.006*\"star\" + 0.006*\"time\" + 0.006*\"know\" + 0.005*\"like\" + 0.005*\"world\" + 0.005*\"life\" + 0.005*\"watch\" + 0.005*\"go\" + 0.005*\"game\" + 0.004*\"look\"\n",
      "Topic: 7 \n",
      "Words: 0.018*\"change\" + 0.012*\"world\" + 0.011*\"climate\" + 0.007*\"time\" + 0.007*\"need\" + 0.007*\"week\" + 0.006*\"rise\" + 0.005*\"start\" + 0.005*\"israel\" + 0.005*\"china\"\n",
      "Topic: 8 \n",
      "Words: 0.028*\"trump\" + 0.017*\"donald\" + 0.014*\"clinton\" + 0.011*\"hillary\" + 0.010*\"president\" + 0.009*\"say\" + 0.009*\"campaign\" + 0.007*\"election\" + 0.007*\"presidential\" + 0.006*\"party\"\n",
      "Topic: 9 \n",
      "Words: 0.010*\"world\" + 0.008*\"best\" + 0.008*\"like\" + 0.008*\"look\" + 0.007*\"watch\" + 0.006*\"time\" + 0.004*\"year\" + 0.004*\"years\" + 0.004*\"place\" + 0.004*\"come\"\n"
     ]
    }
   ],
   "source": [
    "lda_model = gensim.models.LdaMulticore(bow_corpus, num_topics=10, id2word=dictionary, passes=2, workers=2)\n",
    "for idx, topic in lda_model.print_topics(-1):\n",
    "    print('Topic: {} \\nWords: {}'.format(idx, topic))"
   ]
  }
 ],
 "metadata": {
  "kernelspec": {
   "display_name": "Python 3",
   "language": "python",
   "name": "python3"
  },
  "language_info": {
   "codemirror_mode": {
    "name": "ipython",
    "version": 3
   },
   "file_extension": ".py",
   "mimetype": "text/x-python",
   "name": "python",
   "nbconvert_exporter": "python",
   "pygments_lexer": "ipython3",
   "version": "3.6.4"
  }
 },
 "nbformat": 4,
 "nbformat_minor": 2
}
